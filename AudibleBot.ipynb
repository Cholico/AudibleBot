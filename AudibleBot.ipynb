{
 "cells": [
  {
   "cell_type": "code",
   "execution_count": 54,
   "id": "2938a896",
   "metadata": {},
   "outputs": [],
   "source": [
    "from selenium import webdriver\n",
    "from selenium.webdriver.common.by import By\n",
    "import pandas as pd\n",
    "from selenium.webdriver.chrome.options import Options"
   ]
  },
  {
   "cell_type": "code",
   "execution_count": 55,
   "id": "f63e96a2",
   "metadata": {},
   "outputs": [],
   "source": [
    "web = 'https://www.audible.com/search'\n",
    "options = Options()\n",
    "options.headless = True\n",
    "options.add_argument('window-size=1920x1080')\n",
    "driver = webdriver.Chrome(options=options)\n",
    "driver.get(web)\n",
    "\n",
    "# Espera implícita para que los elementos se carguen\n",
    "driver.implicitly_wait(10)\n",
    "\n"
   ]
  },
  {
   "cell_type": "code",
   "execution_count": 56,
   "id": "bec9b4f1",
   "metadata": {},
   "outputs": [],
   "source": [
    "#Pagainacion\n",
    "\n",
    "book_title = []\n",
    "book_author = []\n",
    "book_length = []\n",
    "current_page = 1\n",
    "\n",
    "# Localiza de la paginacion \n",
    "pagination = driver.find_element(By.XPATH, './/ul[contains(@class, \"pagingElements\")]')\n",
    "# Listas de paginas\n",
    "pages = pagination.find_elements(By.TAG_NAME, 'li')\n",
    "last_page = int(pages[-2].text)"
   ]
  },
  {
   "cell_type": "code",
   "execution_count": 57,
   "id": "f20c3d4e",
   "metadata": {},
   "outputs": [],
   "source": [
    "while current_page <= last_page: \n",
    "     # Espera implicita\n",
    "    #time.sleep(2)\n",
    "    # Espera explicita\n",
    "    # container = driver.find_element_by_class_name('adbl-impression-container ')\n",
    "    container = WebDriverWait(driver, 5).until(EC.presence_of_element_located((By.CLASS_NAME, 'adbl-impression-container ')))\n",
    "    # products = container.find_elements_by_xpath('./li')\n",
    "    products = WebDriverWait(container, 5).until(EC.presence_of_all_elements_located((By.XPATH, './/li[contains(@class, \"productListItem\")]')))\n",
    "    # products = container.find_elements_by_xpath('./li')\n",
    "    # Inicializar el almacenamiento\n",
    "    # Hacer un \"bucle for\" a la lista de productos (cada \"product\" representa un audiolibro)\n",
    "    for product in products:\n",
    "        # Usamos la funcion \"contains\" para buscar elementos que contienen un texto en particular, así evitamos construir XPath largos\n",
    "        book_title.append(product.find_element(By.XPATH,'.//h3[contains(@class, \"bc-heading\")]').text)  # Almacenando data en la lista\n",
    "        book_author.append(product.find_element(By.XPATH,'.//li[contains(@class, \"authorLabel\")]').text)\n",
    "        book_length.append(product.find_element(By.XPATH,'.//li[contains(@class, \"runtimeLabel\")]').text)\n",
    "        \n",
    "    current_page += 1\n",
    "\n",
    "    try:\n",
    "        next_page = driver.find_element(By.XPATH, './/span[contains(@class, \"nextButton\")]')\n",
    "        next_page.click()\n",
    "    except:\n",
    "        pass\n",
    "\n",
    "\n",
    "\n",
    "\n",
    "driver.quit()\n",
    "# Almacenando data en un dataframe y exportando a un archivo CSV\n",
    "df_books = pd.DataFrame({'title': book_title, 'author': book_author, 'length': book_length})\n",
    "df_books.to_csv('Allbooks.csv', index=False)"
   ]
  },
  {
   "cell_type": "code",
   "execution_count": null,
   "id": "0f501b3d",
   "metadata": {},
   "outputs": [],
   "source": []
  }
 ],
 "metadata": {
  "kernelspec": {
   "display_name": "Python 3 (ipykernel)",
   "language": "python",
   "name": "python3"
  },
  "language_info": {
   "codemirror_mode": {
    "name": "ipython",
    "version": 3
   },
   "file_extension": ".py",
   "mimetype": "text/x-python",
   "name": "python",
   "nbconvert_exporter": "python",
   "pygments_lexer": "ipython3",
   "version": "3.11.5"
  }
 },
 "nbformat": 4,
 "nbformat_minor": 5
}
